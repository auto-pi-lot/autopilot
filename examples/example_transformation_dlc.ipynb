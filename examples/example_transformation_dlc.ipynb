{
 "cells": [
  {
   "cell_type": "code",
   "execution_count": 1,
   "metadata": {},
   "outputs": [],
   "source": [
    "from autopilot import transform as t\n",
    "import numpy as np"
   ]
  },
  {
   "cell_type": "code",
   "execution_count": 2,
   "metadata": {},
   "outputs": [
    {
     "name": "stdout",
     "output_type": "stream",
     "text": [
      "DLC loaded in light mode; you cannot use any GUI (labeling, relabeling and standalone GUI)\n"
     ]
    }
   ],
   "source": [
    "# make a series of transformations!!\n",
    "# check whether 'knee2' is in the top right quadrant of the screen\n",
    "\n",
    "\n",
    "# stage one, the DLC transformer that extracts pose information\n",
    "# args and kwargs are passed on to dlclive.DLCLive!\n",
    "tf_1_dlc = t.image.DLC(\n",
    "    model_zoo=\"full_human\", \n",
    "    resize=0.5)\n",
    "\n",
    "\n",
    "# stage two, select a point, optionally filtering by a minimum probability\n",
    "tf_2_select = t.selection.DLCSlice(\n",
    "    select= 'knee2',\n",
    "    min_probability = 0\n",
    ")\n",
    "\n",
    "# stage three, check if point is in some range\n",
    "# either return bools for all points (elementwise=True),\n",
    "# or True if *all* the points are within the range (elementwise=False)\n",
    "\n",
    "# each element in minimum and maximum is compared to (x, y),\n",
    "# so top right corner would be...\n",
    "\n",
    "tf_3_compare = t.logical.Condition(\n",
    "    minimum = np.array((128,0)),\n",
    "    maximum = np.array((256,128)),\n",
    "    elementwise=True\n",
    ")\n",
    "\n"
   ]
  },
  {
   "cell_type": "markdown",
   "metadata": {},
   "source": [
    "### Combine the first two:"
   ]
  },
  {
   "cell_type": "markdown",
   "metadata": {},
   "source": [
    "do pose estimation and select a body part"
   ]
  },
  {
   "cell_type": "code",
   "execution_count": 3,
   "metadata": {},
   "outputs": [],
   "source": [
    "combo_1 = tf_1_dlc + tf_2_select"
   ]
  },
  {
   "cell_type": "code",
   "execution_count": 4,
   "metadata": {},
   "outputs": [
    {
     "data": {
      "text/plain": [
       "array([246.2863 , 248.80719], dtype=float32)"
      ]
     },
     "execution_count": 4,
     "metadata": {},
     "output_type": "execute_result"
    }
   ],
   "source": [
    "input_array = np.zeros((512,512), dtype=np.uint8)\n",
    "combo_1.process(input_array)\n"
   ]
  },
  {
   "cell_type": "markdown",
   "metadata": {},
   "source": [
    "### Now test on the condition!!"
   ]
  },
  {
   "cell_type": "code",
   "execution_count": 5,
   "metadata": {},
   "outputs": [],
   "source": [
    "# add the last transformation\n",
    "combo_2 = combo_1 + tf_3_compare"
   ]
  },
  {
   "cell_type": "code",
   "execution_count": 6,
   "metadata": {},
   "outputs": [
    {
     "data": {
      "text/plain": [
       "array([ True, False])"
      ]
     },
     "execution_count": 6,
     "metadata": {},
     "output_type": "execute_result"
    }
   ],
   "source": [
    "combo_2.process(input_array)"
   ]
  },
  {
   "cell_type": "markdown",
   "metadata": {},
   "source": [
    "aw shucks the X coordinate was in range but the Y wasn't."
   ]
  }
 ],
 "metadata": {
  "kernelspec": {
   "display_name": "autopilotvenv",
   "language": "python",
   "name": "autopilotvenv"
  },
  "language_info": {
   "codemirror_mode": {
    "name": "ipython",
    "version": 3
   },
   "file_extension": ".py",
   "mimetype": "text/x-python",
   "name": "python",
   "nbconvert_exporter": "python",
   "pygments_lexer": "ipython3",
   "version": "3.7.7"
  }
 },
 "nbformat": 4,
 "nbformat_minor": 2
}
