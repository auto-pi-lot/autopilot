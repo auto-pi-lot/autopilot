{
 "cells": [
  {
   "cell_type": "markdown",
   "id": "fallen-amino",
   "metadata": {},
   "source": [
    "# The Wiki is integrated with the rest of Autopilot <3\n",
    "\n",
    "The [Autopilot Wiki](https://wiki.auto-pi-lot.com) is a semantic wiki, which means that in addition to human readable and linked text, it encodes linked semantic information and can be queried like a database. This could let us do some fun things like being able to automatically configure hardware, crowdsource best practices and then directly implement them in code, import new hardware and task classes in the program itself by browsing a library of plugins... link them to a DOI of some paper where they are described... but before we get to dreaming we can actually see how it works lol\n",
    "\n",
    "All the docs for the functions used in this example can be found at https://docs.auto-pi-lot.com/en/dev/utils/wiki"
   ]
  },
  {
   "cell_type": "code",
   "execution_count": 4,
   "id": "presidential-proposition",
   "metadata": {},
   "outputs": [],
   "source": [
    "import pandas as pd # for pretty printing\n",
    "from pprint import pprint\n",
    "from autopilot.utils import wiki"
   ]
  },
  {
   "cell_type": "markdown",
   "id": "crazy-english",
   "metadata": {},
   "source": [
    "# Ask and ye shall receive\n",
    "\n",
    "holdin off writing the docs for this evening. For syntax documentation, see the semantic mediawiki docs: https://www.semantic-mediawiki.org/wiki/Help:API:ask and the available properties in the autopilot wiki: https://wiki.auto-pi-lot.com/index.php/Special:Properties\n"
   ]
  },
  {
   "cell_type": "code",
   "execution_count": 7,
   "id": "residential-manner",
   "metadata": {},
   "outputs": [
    {
     "data": {
      "text/html": [
       "<div>\n",
       "<style scoped>\n",
       "    .dataframe tbody tr th:only-of-type {\n",
       "        vertical-align: middle;\n",
       "    }\n",
       "\n",
       "    .dataframe tbody tr th {\n",
       "        vertical-align: top;\n",
       "    }\n",
       "\n",
       "    .dataframe thead th {\n",
       "        text-align: right;\n",
       "    }\n",
       "</style>\n",
       "<table border=\"1\" class=\"dataframe\">\n",
       "  <thead>\n",
       "    <tr style=\"text-align: right;\">\n",
       "      <th></th>\n",
       "      <th>Manufactured By</th>\n",
       "      <th>Is Part Type</th>\n",
       "      <th>Has Product Page</th>\n",
       "      <th>Has Datasheet</th>\n",
       "      <th>Has USD Price</th>\n",
       "      <th>name</th>\n",
       "      <th>url</th>\n",
       "    </tr>\n",
       "  </thead>\n",
       "  <tbody>\n",
       "    <tr>\n",
       "      <th>0</th>\n",
       "      <td>HiFiBerry</td>\n",
       "      <td>[Amplifier, Raspberry Pi HATs]</td>\n",
       "      <td>https://www.hifiberry.com/shop/boards/hifiberr...</td>\n",
       "      <td>https://www.hifiberry.com/docs/data-sheets/dat...</td>\n",
       "      <td>49.9</td>\n",
       "      <td>HiFiBerry Amp2</td>\n",
       "      <td>https://wiki.auto-pi-lot.com/index.php/HiFiBer...</td>\n",
       "    </tr>\n",
       "    <tr>\n",
       "      <th>1</th>\n",
       "      <td>HiVi</td>\n",
       "      <td>Speakers</td>\n",
       "      <td>https://www.parts-express.com/HiVi-RT1.3WE-Iso...</td>\n",
       "      <td>https://wiki.auto-pi-lot.com/index.php/File:Hi...</td>\n",
       "      <td>37.98</td>\n",
       "      <td>HiVi RT1.3WE</td>\n",
       "      <td>https://wiki.auto-pi-lot.com/index.php/HiVi_RT...</td>\n",
       "    </tr>\n",
       "    <tr>\n",
       "      <th>2</th>\n",
       "      <td>[]</td>\n",
       "      <td>[]</td>\n",
       "      <td>[]</td>\n",
       "      <td>[]</td>\n",
       "      <td>[]</td>\n",
       "      <td>Speaker Mount - HiVi</td>\n",
       "      <td>https://wiki.auto-pi-lot.com/index.php/Speaker...</td>\n",
       "    </tr>\n",
       "  </tbody>\n",
       "</table>\n",
       "</div>"
      ],
      "text/plain": [
       "  Manufactured By                    Is Part Type  \\\n",
       "0       HiFiBerry  [Amplifier, Raspberry Pi HATs]   \n",
       "1            HiVi                        Speakers   \n",
       "2              []                              []   \n",
       "\n",
       "                                    Has Product Page  \\\n",
       "0  https://www.hifiberry.com/shop/boards/hifiberr...   \n",
       "1  https://www.parts-express.com/HiVi-RT1.3WE-Iso...   \n",
       "2                                                 []   \n",
       "\n",
       "                                       Has Datasheet Has USD Price  \\\n",
       "0  https://www.hifiberry.com/docs/data-sheets/dat...          49.9   \n",
       "1  https://wiki.auto-pi-lot.com/index.php/File:Hi...         37.98   \n",
       "2                                                 []            []   \n",
       "\n",
       "                   name                                                url  \n",
       "0        HiFiBerry Amp2  https://wiki.auto-pi-lot.com/index.php/HiFiBer...  \n",
       "1          HiVi RT1.3WE  https://wiki.auto-pi-lot.com/index.php/HiVi_RT...  \n",
       "2  Speaker Mount - HiVi  https://wiki.auto-pi-lot.com/index.php/Speaker...  "
      ]
     },
     "execution_count": 7,
     "metadata": {},
     "output_type": "execute_result"
    }
   ],
   "source": [
    "result = wiki.ask(\n",
    "    filters=[\n",
    "        \"[[Category:Hardware]]\", \n",
    "        \"[[Modality::Audio]]\"], \n",
    "    properties=[\n",
    "        \"Manufactured By\", \n",
    "        \"Is Part Type\", \n",
    "        \"Has Product Page\", \n",
    "        \"Has Datasheet\", \n",
    "        \"Has USD Price\"]\n",
    ")\n",
    "pd.DataFrame(result)"
   ]
  },
  {
   "cell_type": "markdown",
   "id": "alone-union",
   "metadata": {},
   "source": [
    "Or the raw dict, if you prefer"
   ]
  },
  {
   "cell_type": "code",
   "execution_count": 8,
   "id": "manufactured-handy",
   "metadata": {},
   "outputs": [
    {
     "name": "stdout",
     "output_type": "stream",
     "text": [
      "[{'Has Datasheet': 'https://www.hifiberry.com/docs/data-sheets/datasheet-amp2/',\n",
      "  'Has Product Page': 'https://www.hifiberry.com/shop/boards/hifiberry-amp2/',\n",
      "  'Has USD Price': 49.9,\n",
      "  'Is Part Type': ['Amplifier', 'Raspberry Pi HATs'],\n",
      "  'Manufactured By': 'HiFiBerry',\n",
      "  'name': 'HiFiBerry Amp2',\n",
      "  'url': 'https://wiki.auto-pi-lot.com/index.php/HiFiBerry_Amp2'},\n",
      " {'Has Datasheet': 'https://wiki.auto-pi-lot.com/index.php/File:HiVi-RT13WE-spec-sheet.pdf',\n",
      "  'Has Product Page': 'https://www.parts-express.com/HiVi-RT1.3WE-Isodynamic-Tweeter-297-421',\n",
      "  'Has USD Price': 37.98,\n",
      "  'Is Part Type': 'Speakers',\n",
      "  'Manufactured By': 'HiVi',\n",
      "  'name': 'HiVi RT1.3WE',\n",
      "  'url': 'https://wiki.auto-pi-lot.com/index.php/HiVi_RT1.3WE'},\n",
      " {'Has Datasheet': [],\n",
      "  'Has Product Page': [],\n",
      "  'Has USD Price': [],\n",
      "  'Is Part Type': [],\n",
      "  'Manufactured By': [],\n",
      "  'name': 'Speaker Mount - HiVi',\n",
      "  'url': 'https://wiki.auto-pi-lot.com/index.php/Speaker_Mount_-_HiVi'}]\n"
     ]
    }
   ],
   "source": [
    "pprint(result)"
   ]
  },
  {
   "cell_type": "markdown",
   "id": "appreciated-conjunction",
   "metadata": {},
   "source": [
    "So that lets you do some pretty fun things, like say we wanted to check if our configuration will have some unanticipated problems from conflict between two raspi HATs that want to use different GPIO pins. We could manually check, use trial and error, and figure out 6 months after you start using a piece of hardware that [one of the pins you've been using as a digital output actually mutes the sound output](https://www.hifiberry.com/docs/hardware/gpio-usage-of-hifiberry-boards/) ...\n",
    "\n",
    "... or we could have a communally curated, semantically annotated technical knoweledge store that makes all that work cumulative for the benefit of everyone."
   ]
  },
  {
   "cell_type": "code",
   "execution_count": 10,
   "id": "composed-longitude",
   "metadata": {},
   "outputs": [
    {
     "data": {
      "text/plain": [
       "[{'Uses GPIO Pin': [3, 5, 7, 12, 35, 38, 40],\n",
       "  'name': 'HiFiBerry Amp2',\n",
       "  'url': 'https://wiki.auto-pi-lot.com/index.php/HiFiBerry_Amp2'}]"
      ]
     },
     "execution_count": 10,
     "metadata": {},
     "output_type": "execute_result"
    }
   ],
   "source": [
    "wiki.ask('[[HiFiBerry Amp2]]', \"Uses GPIO Pin\")"
   ]
  },
  {
   "cell_type": "markdown",
   "id": "artificial-brief",
   "metadata": {},
   "source": [
    "Or build a GUI extension that lets you select some of the 3D CAD models to use in your VR task?\n",
    "\n",
    "(just glue the `'File:{}.stl'`s  after the `'index.php/'` in the wiki url)"
   ]
  },
  {
   "cell_type": "code",
   "execution_count": 11,
   "id": "disturbed-stock",
   "metadata": {},
   "outputs": [
    {
     "data": {
      "text/plain": [
       "[{'Has STL': 'File:1L bottle wall mount.stl',\n",
       "  'name': '1L Bottle Wall Mount',\n",
       "  'url': 'https://wiki.auto-pi-lot.com/index.php/1L_Bottle_Wall_Mount'},\n",
       " {'Has STL': 'File:Autopilot led mount m.stl',\n",
       "  'name': 'Autopilot LED Mount',\n",
       "  'url': 'https://wiki.auto-pi-lot.com/index.php/Autopilot_LED_Mount'},\n",
       " {'Has STL': 'File:Autopilot nosepoke cap.stl',\n",
       "  'name': 'Autopilot Nosepoke Cap',\n",
       "  'url': 'https://wiki.auto-pi-lot.com/index.php/Autopilot_Nosepoke_Cap'},\n",
       " {'Has STL': 'File:Autopilot nosepoke needle holder.stl',\n",
       "  'name': 'Autopilot Nosepoke Needle Holder',\n",
       "  'url': 'https://wiki.auto-pi-lot.com/index.php/Autopilot_Nosepoke_Needle_Holder'},\n",
       " {'Has STL': 'File:Autopilot panel handle.stl',\n",
       "  'name': 'Autopilot Panel Handle',\n",
       "  'url': 'https://wiki.auto-pi-lot.com/index.php/Autopilot_Panel_Handle'},\n",
       " {'Has STL': 'File:Autopilot soundproof box jig lr 1.stl',\n",
       "  'name': 'Autopilot Soundproof Box Jigs',\n",
       "  'url': 'https://wiki.auto-pi-lot.com/index.php/Autopilot_Soundproof_Box_Jigs'},\n",
       " {'Has STL': 'File:Autopilot tripoke panel.stl',\n",
       "  'name': 'Autopilot Tripoke Panel',\n",
       "  'url': 'https://wiki.auto-pi-lot.com/index.php/Autopilot_Tripoke_Panel'},\n",
       " {'Has STL': 'File:SocialCap.stl',\n",
       "  'name': 'Neuralynx EIB social cap',\n",
       "  'url': 'https://wiki.auto-pi-lot.com/index.php/Neuralynx_EIB_social_cap'},\n",
       " {'Has STL': 'File:Speaker holder.stl',\n",
       "  'name': 'Speaker Mount - HiVi',\n",
       "  'url': 'https://wiki.auto-pi-lot.com/index.php/Speaker_Mount_-_HiVi'}]"
      ]
     },
     "execution_count": 11,
     "metadata": {},
     "output_type": "execute_result"
    }
   ],
   "source": [
    "wiki.ask('[[Category:3D CAD]]', \"Has STL\")"
   ]
  },
  {
   "cell_type": "code",
   "execution_count": null,
   "id": "aware-belle",
   "metadata": {},
   "outputs": [],
   "source": []
  }
 ],
 "metadata": {
  "kernelspec": {
   "display_name": "autopilotvenv",
   "language": "python",
   "name": "autopilotvenv"
  },
  "language_info": {
   "codemirror_mode": {
    "name": "ipython",
    "version": 3
   },
   "file_extension": ".py",
   "mimetype": "text/x-python",
   "name": "python",
   "nbconvert_exporter": "python",
   "pygments_lexer": "ipython3",
   "version": "3.7.7"
  }
 },
 "nbformat": 4,
 "nbformat_minor": 5
}
